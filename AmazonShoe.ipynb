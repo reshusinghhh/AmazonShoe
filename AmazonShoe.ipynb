{
 "cells": [
  {
   "cell_type": "code",
   "execution_count": 101,
   "metadata": {},
   "outputs": [],
   "source": [
    "# Importing the libraries\n",
    "import numpy as np\n",
    "import matplotlib.pyplot as plt\n",
    "import pandas as pd\n",
    "import seaborn as sns\n",
    "color = sns.color_palette()\n",
    "import squarify"
   ]
  },
  {
   "cell_type": "code",
   "execution_count": 102,
   "metadata": {
    "scrolled": true
   },
   "outputs": [
    {
     "name": "stdout",
     "output_type": "stream",
     "text": [
      "<class 'pandas.core.frame.DataFrame'>\n",
      "RangeIndex: 999 entries, 0 to 998\n",
      "Data columns (total 15 columns):\n",
      "marketplace          999 non-null object\n",
      "customer_id          999 non-null int64\n",
      "review_id            999 non-null object\n",
      "product_id           999 non-null object\n",
      "product_parent       999 non-null int64\n",
      "product_title        999 non-null object\n",
      "product_category     999 non-null object\n",
      "star_rating          999 non-null int64\n",
      "helpful_votes        999 non-null int64\n",
      "total_votes          999 non-null int64\n",
      "vine                 999 non-null object\n",
      "verified_purchase    999 non-null object\n",
      "review_headline      999 non-null object\n",
      "review_body          999 non-null object\n",
      "review_date          999 non-null object\n",
      "dtypes: int64(5), object(10)\n",
      "memory usage: 117.1+ KB\n"
     ]
    },
    {
     "data": {
      "text/html": [
       "<div>\n",
       "<style scoped>\n",
       "    .dataframe tbody tr th:only-of-type {\n",
       "        vertical-align: middle;\n",
       "    }\n",
       "\n",
       "    .dataframe tbody tr th {\n",
       "        vertical-align: top;\n",
       "    }\n",
       "\n",
       "    .dataframe thead th {\n",
       "        text-align: right;\n",
       "    }\n",
       "</style>\n",
       "<table border=\"1\" class=\"dataframe\">\n",
       "  <thead>\n",
       "    <tr style=\"text-align: right;\">\n",
       "      <th></th>\n",
       "      <th>marketplace</th>\n",
       "      <th>customer_id</th>\n",
       "      <th>review_id</th>\n",
       "      <th>product_id</th>\n",
       "      <th>product_parent</th>\n",
       "      <th>product_title</th>\n",
       "      <th>product_category</th>\n",
       "      <th>star_rating</th>\n",
       "      <th>helpful_votes</th>\n",
       "      <th>total_votes</th>\n",
       "      <th>vine</th>\n",
       "      <th>verified_purchase</th>\n",
       "      <th>review_headline</th>\n",
       "      <th>review_body</th>\n",
       "      <th>review_date</th>\n",
       "      <th>review head length</th>\n",
       "    </tr>\n",
       "  </thead>\n",
       "  <tbody>\n",
       "    <tr>\n",
       "      <th>0</th>\n",
       "      <td>US</td>\n",
       "      <td>18069663</td>\n",
       "      <td>R3P2HIOQCIN5ZU</td>\n",
       "      <td>B000XB31C0</td>\n",
       "      <td>265024781</td>\n",
       "      <td>Minnetonka Men's Double Deerskin Softsole Mocc...</td>\n",
       "      <td>Shoes</td>\n",
       "      <td>1</td>\n",
       "      <td>0</td>\n",
       "      <td>0</td>\n",
       "      <td>N</td>\n",
       "      <td>Y</td>\n",
       "      <td>0</td>\n",
       "      <td>Do not buy: really didn't start to wear them u...</td>\n",
       "      <td>2015-08-31</td>\n",
       "      <td>1</td>\n",
       "    </tr>\n",
       "    <tr>\n",
       "      <th>1</th>\n",
       "      <td>US</td>\n",
       "      <td>16251825</td>\n",
       "      <td>R12VVR0WH5Q24V</td>\n",
       "      <td>B00CFYZH5W</td>\n",
       "      <td>259035853</td>\n",
       "      <td>Teva Men's Pajaro Flip-Flop</td>\n",
       "      <td>Shoes</td>\n",
       "      <td>5</td>\n",
       "      <td>0</td>\n",
       "      <td>0</td>\n",
       "      <td>N</td>\n",
       "      <td>Y</td>\n",
       "      <td>super flip flop</td>\n",
       "      <td>provides great cushion as well as archsupport</td>\n",
       "      <td>2015-08-31</td>\n",
       "      <td>15</td>\n",
       "    </tr>\n",
       "    <tr>\n",
       "      <th>2</th>\n",
       "      <td>US</td>\n",
       "      <td>20381037</td>\n",
       "      <td>RNCCKB6TV5EEF</td>\n",
       "      <td>B00S8JNN3Q</td>\n",
       "      <td>666066660</td>\n",
       "      <td>Anne Klein Perfect Pair Wristlet</td>\n",
       "      <td>Shoes</td>\n",
       "      <td>4</td>\n",
       "      <td>0</td>\n",
       "      <td>0</td>\n",
       "      <td>N</td>\n",
       "      <td>Y</td>\n",
       "      <td>Great clutch purse!</td>\n",
       "      <td>It's perfect if you need something small for c...</td>\n",
       "      <td>2015-08-31</td>\n",
       "      <td>19</td>\n",
       "    </tr>\n",
       "    <tr>\n",
       "      <th>3</th>\n",
       "      <td>US</td>\n",
       "      <td>108364</td>\n",
       "      <td>R2NZXYIVCGB13W</td>\n",
       "      <td>B00XFBPOQG</td>\n",
       "      <td>448483263</td>\n",
       "      <td>adidas Men's 10K Lifestyle Runner Sneaker</td>\n",
       "      <td>Shoes</td>\n",
       "      <td>5</td>\n",
       "      <td>0</td>\n",
       "      <td>6</td>\n",
       "      <td>N</td>\n",
       "      <td>Y</td>\n",
       "      <td>Badass</td>\n",
       "      <td>Getting what u see</td>\n",
       "      <td>2015-08-31</td>\n",
       "      <td>6</td>\n",
       "    </tr>\n",
       "    <tr>\n",
       "      <th>4</th>\n",
       "      <td>US</td>\n",
       "      <td>45449350</td>\n",
       "      <td>R2EQ1TG9IT3OEQ</td>\n",
       "      <td>B00SW64Y9W</td>\n",
       "      <td>7853171</td>\n",
       "      <td>OverBling Sneakers for Men Casual Men Shoes Ge...</td>\n",
       "      <td>Shoes</td>\n",
       "      <td>3</td>\n",
       "      <td>0</td>\n",
       "      <td>0</td>\n",
       "      <td>N</td>\n",
       "      <td>Y</td>\n",
       "      <td>Three Stars</td>\n",
       "      <td>small</td>\n",
       "      <td>2015-08-31</td>\n",
       "      <td>11</td>\n",
       "    </tr>\n",
       "  </tbody>\n",
       "</table>\n",
       "</div>"
      ],
      "text/plain": [
       "  marketplace  customer_id       review_id  product_id  product_parent  \\\n",
       "0          US     18069663  R3P2HIOQCIN5ZU  B000XB31C0       265024781   \n",
       "1          US     16251825  R12VVR0WH5Q24V  B00CFYZH5W       259035853   \n",
       "2          US     20381037   RNCCKB6TV5EEF  B00S8JNN3Q       666066660   \n",
       "3          US       108364  R2NZXYIVCGB13W  B00XFBPOQG       448483263   \n",
       "4          US     45449350  R2EQ1TG9IT3OEQ  B00SW64Y9W         7853171   \n",
       "\n",
       "                                       product_title product_category  \\\n",
       "0  Minnetonka Men's Double Deerskin Softsole Mocc...            Shoes   \n",
       "1                        Teva Men's Pajaro Flip-Flop            Shoes   \n",
       "2                   Anne Klein Perfect Pair Wristlet            Shoes   \n",
       "3          adidas Men's 10K Lifestyle Runner Sneaker            Shoes   \n",
       "4  OverBling Sneakers for Men Casual Men Shoes Ge...            Shoes   \n",
       "\n",
       "   star_rating  helpful_votes  total_votes vine verified_purchase  \\\n",
       "0            1              0            0    N                 Y   \n",
       "1            5              0            0    N                 Y   \n",
       "2            4              0            0    N                 Y   \n",
       "3            5              0            6    N                 Y   \n",
       "4            3              0            0    N                 Y   \n",
       "\n",
       "       review_headline                                        review_body  \\\n",
       "0                    0  Do not buy: really didn't start to wear them u...   \n",
       "1      super flip flop      provides great cushion as well as archsupport   \n",
       "2  Great clutch purse!  It's perfect if you need something small for c...   \n",
       "3               Badass                                 Getting what u see   \n",
       "4          Three Stars                                              small   \n",
       "\n",
       "  review_date  review head length  \n",
       "0  2015-08-31                   1  \n",
       "1  2015-08-31                  15  \n",
       "2  2015-08-31                  19  \n",
       "3  2015-08-31                   6  \n",
       "4  2015-08-31                  11  "
      ]
     },
     "execution_count": 102,
     "metadata": {},
     "output_type": "execute_result"
    }
   ],
   "source": [
    "# Importing the dataset\n",
    "student_df = pd.read_csv(\"/home/reshu/Desktop/final.csv\")\n",
    "student_df.shape\n",
    "student_df.info()\n",
    "student_df.describe()\n",
    "student_df['review head length'] = student_df['review_headline'].apply(len)\n",
    "student_df.head()\n"
   ]
  },
  {
   "cell_type": "code",
   "execution_count": 103,
   "metadata": {
    "scrolled": true
   },
   "outputs": [
    {
     "data": {
      "text/html": [
       "<div>\n",
       "<style scoped>\n",
       "    .dataframe tbody tr th:only-of-type {\n",
       "        vertical-align: middle;\n",
       "    }\n",
       "\n",
       "    .dataframe tbody tr th {\n",
       "        vertical-align: top;\n",
       "    }\n",
       "\n",
       "    .dataframe thead th {\n",
       "        text-align: right;\n",
       "    }\n",
       "</style>\n",
       "<table border=\"1\" class=\"dataframe\">\n",
       "  <thead>\n",
       "    <tr style=\"text-align: right;\">\n",
       "      <th></th>\n",
       "      <th>marketplace</th>\n",
       "      <th>customer_id</th>\n",
       "      <th>review_id</th>\n",
       "      <th>product_id</th>\n",
       "      <th>product_parent</th>\n",
       "      <th>product_title</th>\n",
       "      <th>product_category</th>\n",
       "      <th>star_rating</th>\n",
       "      <th>helpful_votes</th>\n",
       "      <th>total_votes</th>\n",
       "      <th>vine</th>\n",
       "      <th>verified_purchase</th>\n",
       "      <th>review_headline</th>\n",
       "      <th>review_body</th>\n",
       "      <th>review_date</th>\n",
       "      <th>review head length</th>\n",
       "      <th>review body length</th>\n",
       "    </tr>\n",
       "  </thead>\n",
       "  <tbody>\n",
       "    <tr>\n",
       "      <th>0</th>\n",
       "      <td>US</td>\n",
       "      <td>18069663</td>\n",
       "      <td>R3P2HIOQCIN5ZU</td>\n",
       "      <td>B000XB31C0</td>\n",
       "      <td>265024781</td>\n",
       "      <td>Minnetonka Men's Double Deerskin Softsole Mocc...</td>\n",
       "      <td>Shoes</td>\n",
       "      <td>1</td>\n",
       "      <td>0</td>\n",
       "      <td>0</td>\n",
       "      <td>N</td>\n",
       "      <td>Y</td>\n",
       "      <td>0</td>\n",
       "      <td>Do not buy: really didn't start to wear them u...</td>\n",
       "      <td>2015-08-31</td>\n",
       "      <td>1</td>\n",
       "      <td>418</td>\n",
       "    </tr>\n",
       "    <tr>\n",
       "      <th>1</th>\n",
       "      <td>US</td>\n",
       "      <td>16251825</td>\n",
       "      <td>R12VVR0WH5Q24V</td>\n",
       "      <td>B00CFYZH5W</td>\n",
       "      <td>259035853</td>\n",
       "      <td>Teva Men's Pajaro Flip-Flop</td>\n",
       "      <td>Shoes</td>\n",
       "      <td>5</td>\n",
       "      <td>0</td>\n",
       "      <td>0</td>\n",
       "      <td>N</td>\n",
       "      <td>Y</td>\n",
       "      <td>super flip flop</td>\n",
       "      <td>provides great cushion as well as archsupport</td>\n",
       "      <td>2015-08-31</td>\n",
       "      <td>15</td>\n",
       "      <td>45</td>\n",
       "    </tr>\n",
       "    <tr>\n",
       "      <th>2</th>\n",
       "      <td>US</td>\n",
       "      <td>20381037</td>\n",
       "      <td>RNCCKB6TV5EEF</td>\n",
       "      <td>B00S8JNN3Q</td>\n",
       "      <td>666066660</td>\n",
       "      <td>Anne Klein Perfect Pair Wristlet</td>\n",
       "      <td>Shoes</td>\n",
       "      <td>4</td>\n",
       "      <td>0</td>\n",
       "      <td>0</td>\n",
       "      <td>N</td>\n",
       "      <td>Y</td>\n",
       "      <td>Great clutch purse!</td>\n",
       "      <td>It's perfect if you need something small for c...</td>\n",
       "      <td>2015-08-31</td>\n",
       "      <td>19</td>\n",
       "      <td>71</td>\n",
       "    </tr>\n",
       "    <tr>\n",
       "      <th>3</th>\n",
       "      <td>US</td>\n",
       "      <td>108364</td>\n",
       "      <td>R2NZXYIVCGB13W</td>\n",
       "      <td>B00XFBPOQG</td>\n",
       "      <td>448483263</td>\n",
       "      <td>adidas Men's 10K Lifestyle Runner Sneaker</td>\n",
       "      <td>Shoes</td>\n",
       "      <td>5</td>\n",
       "      <td>0</td>\n",
       "      <td>6</td>\n",
       "      <td>N</td>\n",
       "      <td>Y</td>\n",
       "      <td>Badass</td>\n",
       "      <td>Getting what u see</td>\n",
       "      <td>2015-08-31</td>\n",
       "      <td>6</td>\n",
       "      <td>18</td>\n",
       "    </tr>\n",
       "    <tr>\n",
       "      <th>4</th>\n",
       "      <td>US</td>\n",
       "      <td>45449350</td>\n",
       "      <td>R2EQ1TG9IT3OEQ</td>\n",
       "      <td>B00SW64Y9W</td>\n",
       "      <td>7853171</td>\n",
       "      <td>OverBling Sneakers for Men Casual Men Shoes Ge...</td>\n",
       "      <td>Shoes</td>\n",
       "      <td>3</td>\n",
       "      <td>0</td>\n",
       "      <td>0</td>\n",
       "      <td>N</td>\n",
       "      <td>Y</td>\n",
       "      <td>Three Stars</td>\n",
       "      <td>small</td>\n",
       "      <td>2015-08-31</td>\n",
       "      <td>11</td>\n",
       "      <td>5</td>\n",
       "    </tr>\n",
       "  </tbody>\n",
       "</table>\n",
       "</div>"
      ],
      "text/plain": [
       "  marketplace  customer_id       review_id  product_id  product_parent  \\\n",
       "0          US     18069663  R3P2HIOQCIN5ZU  B000XB31C0       265024781   \n",
       "1          US     16251825  R12VVR0WH5Q24V  B00CFYZH5W       259035853   \n",
       "2          US     20381037   RNCCKB6TV5EEF  B00S8JNN3Q       666066660   \n",
       "3          US       108364  R2NZXYIVCGB13W  B00XFBPOQG       448483263   \n",
       "4          US     45449350  R2EQ1TG9IT3OEQ  B00SW64Y9W         7853171   \n",
       "\n",
       "                                       product_title product_category  \\\n",
       "0  Minnetonka Men's Double Deerskin Softsole Mocc...            Shoes   \n",
       "1                        Teva Men's Pajaro Flip-Flop            Shoes   \n",
       "2                   Anne Klein Perfect Pair Wristlet            Shoes   \n",
       "3          adidas Men's 10K Lifestyle Runner Sneaker            Shoes   \n",
       "4  OverBling Sneakers for Men Casual Men Shoes Ge...            Shoes   \n",
       "\n",
       "   star_rating  helpful_votes  total_votes vine verified_purchase  \\\n",
       "0            1              0            0    N                 Y   \n",
       "1            5              0            0    N                 Y   \n",
       "2            4              0            0    N                 Y   \n",
       "3            5              0            6    N                 Y   \n",
       "4            3              0            0    N                 Y   \n",
       "\n",
       "       review_headline                                        review_body  \\\n",
       "0                    0  Do not buy: really didn't start to wear them u...   \n",
       "1      super flip flop      provides great cushion as well as archsupport   \n",
       "2  Great clutch purse!  It's perfect if you need something small for c...   \n",
       "3               Badass                                 Getting what u see   \n",
       "4          Three Stars                                              small   \n",
       "\n",
       "  review_date  review head length  review body length  \n",
       "0  2015-08-31                   1                 418  \n",
       "1  2015-08-31                  15                  45  \n",
       "2  2015-08-31                  19                  71  \n",
       "3  2015-08-31                   6                  18  \n",
       "4  2015-08-31                  11                   5  "
      ]
     },
     "execution_count": 103,
     "metadata": {},
     "output_type": "execute_result"
    }
   ],
   "source": [
    "student_df['review body length'] = student_df['review_body'].apply(len)\n",
    "student_df.head()"
   ]
  },
  {
   "cell_type": "code",
   "execution_count": 104,
   "metadata": {
    "scrolled": false
   },
   "outputs": [
    {
     "data": {
      "text/html": [
       "<div>\n",
       "<style scoped>\n",
       "    .dataframe tbody tr th:only-of-type {\n",
       "        vertical-align: middle;\n",
       "    }\n",
       "\n",
       "    .dataframe tbody tr th {\n",
       "        vertical-align: top;\n",
       "    }\n",
       "\n",
       "    .dataframe thead th {\n",
       "        text-align: right;\n",
       "    }\n",
       "</style>\n",
       "<table border=\"1\" class=\"dataframe\">\n",
       "  <thead>\n",
       "    <tr style=\"text-align: right;\">\n",
       "      <th></th>\n",
       "      <th>marketplace</th>\n",
       "      <th>customer_id</th>\n",
       "      <th>review_id</th>\n",
       "      <th>product_id</th>\n",
       "      <th>product_parent</th>\n",
       "      <th>product_title</th>\n",
       "      <th>product_category</th>\n",
       "      <th>star_rating</th>\n",
       "      <th>helpful_votes</th>\n",
       "      <th>total_votes</th>\n",
       "      <th>vine</th>\n",
       "      <th>verified_purchase</th>\n",
       "      <th>review_headline</th>\n",
       "      <th>review_body</th>\n",
       "      <th>review_date</th>\n",
       "      <th>review head length</th>\n",
       "      <th>review body length</th>\n",
       "    </tr>\n",
       "  </thead>\n",
       "  <tbody>\n",
       "    <tr>\n",
       "      <th>0</th>\n",
       "      <td>US</td>\n",
       "      <td>18069663</td>\n",
       "      <td>R3P2HIOQCIN5ZU</td>\n",
       "      <td>B000XB31C0</td>\n",
       "      <td>265024781</td>\n",
       "      <td>Minnetonka Men's Double Deerskin Softsole Mocc...</td>\n",
       "      <td>Shoes</td>\n",
       "      <td>1</td>\n",
       "      <td>0</td>\n",
       "      <td>0</td>\n",
       "      <td>N</td>\n",
       "      <td>Y</td>\n",
       "      <td>0</td>\n",
       "      <td>Do not buy: really didn't start to wear them u...</td>\n",
       "      <td>2015-08-31</td>\n",
       "      <td>1</td>\n",
       "      <td>418</td>\n",
       "    </tr>\n",
       "    <tr>\n",
       "      <th>1</th>\n",
       "      <td>US</td>\n",
       "      <td>16251825</td>\n",
       "      <td>R12VVR0WH5Q24V</td>\n",
       "      <td>B00CFYZH5W</td>\n",
       "      <td>259035853</td>\n",
       "      <td>Teva Men's Pajaro Flip-Flop</td>\n",
       "      <td>Shoes</td>\n",
       "      <td>5</td>\n",
       "      <td>0</td>\n",
       "      <td>0</td>\n",
       "      <td>N</td>\n",
       "      <td>Y</td>\n",
       "      <td>super flip flop</td>\n",
       "      <td>provides great cushion as well as archsupport</td>\n",
       "      <td>2015-08-31</td>\n",
       "      <td>15</td>\n",
       "      <td>45</td>\n",
       "    </tr>\n",
       "    <tr>\n",
       "      <th>2</th>\n",
       "      <td>US</td>\n",
       "      <td>20381037</td>\n",
       "      <td>RNCCKB6TV5EEF</td>\n",
       "      <td>B00S8JNN3Q</td>\n",
       "      <td>666066660</td>\n",
       "      <td>Anne Klein Perfect Pair Wristlet</td>\n",
       "      <td>Shoes</td>\n",
       "      <td>4</td>\n",
       "      <td>0</td>\n",
       "      <td>0</td>\n",
       "      <td>N</td>\n",
       "      <td>Y</td>\n",
       "      <td>Great clutch purse!</td>\n",
       "      <td>It's perfect if you need something small for c...</td>\n",
       "      <td>2015-08-31</td>\n",
       "      <td>19</td>\n",
       "      <td>71</td>\n",
       "    </tr>\n",
       "    <tr>\n",
       "      <th>3</th>\n",
       "      <td>US</td>\n",
       "      <td>108364</td>\n",
       "      <td>R2NZXYIVCGB13W</td>\n",
       "      <td>B00XFBPOQG</td>\n",
       "      <td>448483263</td>\n",
       "      <td>adidas Men's 10K Lifestyle Runner Sneaker</td>\n",
       "      <td>Shoes</td>\n",
       "      <td>5</td>\n",
       "      <td>0</td>\n",
       "      <td>6</td>\n",
       "      <td>N</td>\n",
       "      <td>Y</td>\n",
       "      <td>Badass</td>\n",
       "      <td>Getting what u see</td>\n",
       "      <td>2015-08-31</td>\n",
       "      <td>6</td>\n",
       "      <td>18</td>\n",
       "    </tr>\n",
       "    <tr>\n",
       "      <th>4</th>\n",
       "      <td>US</td>\n",
       "      <td>45449350</td>\n",
       "      <td>R2EQ1TG9IT3OEQ</td>\n",
       "      <td>B00SW64Y9W</td>\n",
       "      <td>7853171</td>\n",
       "      <td>OverBling Sneakers for Men Casual Men Shoes Ge...</td>\n",
       "      <td>Shoes</td>\n",
       "      <td>3</td>\n",
       "      <td>0</td>\n",
       "      <td>0</td>\n",
       "      <td>N</td>\n",
       "      <td>Y</td>\n",
       "      <td>Three Stars</td>\n",
       "      <td>small</td>\n",
       "      <td>2015-08-31</td>\n",
       "      <td>11</td>\n",
       "      <td>5</td>\n",
       "    </tr>\n",
       "  </tbody>\n",
       "</table>\n",
       "</div>"
      ],
      "text/plain": [
       "  marketplace  customer_id       review_id  product_id  product_parent  \\\n",
       "0          US     18069663  R3P2HIOQCIN5ZU  B000XB31C0       265024781   \n",
       "1          US     16251825  R12VVR0WH5Q24V  B00CFYZH5W       259035853   \n",
       "2          US     20381037   RNCCKB6TV5EEF  B00S8JNN3Q       666066660   \n",
       "3          US       108364  R2NZXYIVCGB13W  B00XFBPOQG       448483263   \n",
       "4          US     45449350  R2EQ1TG9IT3OEQ  B00SW64Y9W         7853171   \n",
       "\n",
       "                                       product_title product_category  \\\n",
       "0  Minnetonka Men's Double Deerskin Softsole Mocc...            Shoes   \n",
       "1                        Teva Men's Pajaro Flip-Flop            Shoes   \n",
       "2                   Anne Klein Perfect Pair Wristlet            Shoes   \n",
       "3          adidas Men's 10K Lifestyle Runner Sneaker            Shoes   \n",
       "4  OverBling Sneakers for Men Casual Men Shoes Ge...            Shoes   \n",
       "\n",
       "   star_rating  helpful_votes  total_votes vine verified_purchase  \\\n",
       "0            1              0            0    N                 Y   \n",
       "1            5              0            0    N                 Y   \n",
       "2            4              0            0    N                 Y   \n",
       "3            5              0            6    N                 Y   \n",
       "4            3              0            0    N                 Y   \n",
       "\n",
       "       review_headline                                        review_body  \\\n",
       "0                    0  Do not buy: really didn't start to wear them u...   \n",
       "1      super flip flop      provides great cushion as well as archsupport   \n",
       "2  Great clutch purse!  It's perfect if you need something small for c...   \n",
       "3               Badass                                 Getting what u see   \n",
       "4          Three Stars                                              small   \n",
       "\n",
       "  review_date  review head length  review body length  \n",
       "0  2015-08-31                   1                 418  \n",
       "1  2015-08-31                  15                  45  \n",
       "2  2015-08-31                  19                  71  \n",
       "3  2015-08-31                   6                  18  \n",
       "4  2015-08-31                  11                   5  "
      ]
     },
     "execution_count": 104,
     "metadata": {},
     "output_type": "execute_result"
    }
   ],
   "source": [
    "student_df.head()\n",
    "\n"
   ]
  },
  {
   "cell_type": "code",
   "execution_count": 105,
   "metadata": {
    "scrolled": true
   },
   "outputs": [
    {
     "data": {
      "text/html": [
       "<div>\n",
       "<style scoped>\n",
       "    .dataframe tbody tr th:only-of-type {\n",
       "        vertical-align: middle;\n",
       "    }\n",
       "\n",
       "    .dataframe tbody tr th {\n",
       "        vertical-align: top;\n",
       "    }\n",
       "\n",
       "    .dataframe thead th {\n",
       "        text-align: right;\n",
       "    }\n",
       "</style>\n",
       "<table border=\"1\" class=\"dataframe\">\n",
       "  <thead>\n",
       "    <tr style=\"text-align: right;\">\n",
       "      <th></th>\n",
       "      <th>marketplace</th>\n",
       "      <th>customer_id</th>\n",
       "      <th>review_id</th>\n",
       "      <th>product_id</th>\n",
       "      <th>product_parent</th>\n",
       "      <th>product_title</th>\n",
       "      <th>product_category</th>\n",
       "      <th>star_rating</th>\n",
       "      <th>helpful_votes</th>\n",
       "      <th>total_votes</th>\n",
       "      <th>vine</th>\n",
       "      <th>verified_purchase</th>\n",
       "      <th>review_headline</th>\n",
       "      <th>review_body</th>\n",
       "      <th>review_date</th>\n",
       "      <th>review head length</th>\n",
       "      <th>review body length</th>\n",
       "    </tr>\n",
       "  </thead>\n",
       "  <tbody>\n",
       "    <tr>\n",
       "      <th>994</th>\n",
       "      <td>US</td>\n",
       "      <td>19237218</td>\n",
       "      <td>R27KDP68EAJDBS</td>\n",
       "      <td>B00B01JM0M</td>\n",
       "      <td>621921693</td>\n",
       "      <td>Rockport Men's DresSports 3.0 Dandris Bike Toe...</td>\n",
       "      <td>Shoes</td>\n",
       "      <td>4</td>\n",
       "      <td>0</td>\n",
       "      <td>0</td>\n",
       "      <td>N</td>\n",
       "      <td>Y</td>\n",
       "      <td>it's fine. That narrowness cost it one star</td>\n",
       "      <td>Sharp looking shoe that can work with a suit o...</td>\n",
       "      <td>2015-08-31</td>\n",
       "      <td>43</td>\n",
       "      <td>169</td>\n",
       "    </tr>\n",
       "    <tr>\n",
       "      <th>995</th>\n",
       "      <td>US</td>\n",
       "      <td>49725412</td>\n",
       "      <td>RMHN8IVGTAIGB</td>\n",
       "      <td>B00Z2G87RA</td>\n",
       "      <td>425882344</td>\n",
       "      <td>Elegant Women's Fashion Strappy Black Flat San...</td>\n",
       "      <td>Shoes</td>\n",
       "      <td>5</td>\n",
       "      <td>0</td>\n",
       "      <td>0</td>\n",
       "      <td>N</td>\n",
       "      <td>Y</td>\n",
       "      <td>Five Stars</td>\n",
       "      <td>Great fit &amp; very comfortable</td>\n",
       "      <td>2015-08-31</td>\n",
       "      <td>10</td>\n",
       "      <td>28</td>\n",
       "    </tr>\n",
       "    <tr>\n",
       "      <th>996</th>\n",
       "      <td>US</td>\n",
       "      <td>45751003</td>\n",
       "      <td>RHPO6FM7WS53D</td>\n",
       "      <td>B00HQ520UA</td>\n",
       "      <td>7567121</td>\n",
       "      <td>Patagonia Women's Vela Hiking Shoe</td>\n",
       "      <td>Shoes</td>\n",
       "      <td>5</td>\n",
       "      <td>0</td>\n",
       "      <td>0</td>\n",
       "      <td>N</td>\n",
       "      <td>Y</td>\n",
       "      <td>Great hiking shoe!</td>\n",
       "      <td>I wear a 9.5 in most closed toe shoes. These f...</td>\n",
       "      <td>2015-08-31</td>\n",
       "      <td>18</td>\n",
       "      <td>547</td>\n",
       "    </tr>\n",
       "    <tr>\n",
       "      <th>997</th>\n",
       "      <td>US</td>\n",
       "      <td>44251539</td>\n",
       "      <td>R2QUKQNR3VH88R</td>\n",
       "      <td>B00I4W9XKO</td>\n",
       "      <td>844625626</td>\n",
       "      <td>Stride Rite SRTech Lana Mary Jane (Toddler)</td>\n",
       "      <td>Shoes</td>\n",
       "      <td>3</td>\n",
       "      <td>0</td>\n",
       "      <td>0</td>\n",
       "      <td>N</td>\n",
       "      <td>Y</td>\n",
       "      <td>Three Stars</td>\n",
       "      <td>Nice and comfort</td>\n",
       "      <td>2015-08-31</td>\n",
       "      <td>11</td>\n",
       "      <td>16</td>\n",
       "    </tr>\n",
       "    <tr>\n",
       "      <th>998</th>\n",
       "      <td>US</td>\n",
       "      <td>9593677</td>\n",
       "      <td>R1B83504S9W1OR</td>\n",
       "      <td>B00WAVGR40</td>\n",
       "      <td>341371295</td>\n",
       "      <td>Western Camouflage Camo Buckle Concealed Carry...</td>\n",
       "      <td>Shoes</td>\n",
       "      <td>3</td>\n",
       "      <td>3</td>\n",
       "      <td>3</td>\n",
       "      <td>N</td>\n",
       "      <td>Y</td>\n",
       "      <td>Three Stars</td>\n",
       "      <td>I like the purse part... but the concealed car...</td>\n",
       "      <td>2015-08-31</td>\n",
       "      <td>11</td>\n",
       "      <td>89</td>\n",
       "    </tr>\n",
       "  </tbody>\n",
       "</table>\n",
       "</div>"
      ],
      "text/plain": [
       "    marketplace  customer_id       review_id  product_id  product_parent  \\\n",
       "994          US     19237218  R27KDP68EAJDBS  B00B01JM0M       621921693   \n",
       "995          US     49725412   RMHN8IVGTAIGB  B00Z2G87RA       425882344   \n",
       "996          US     45751003   RHPO6FM7WS53D  B00HQ520UA         7567121   \n",
       "997          US     44251539  R2QUKQNR3VH88R  B00I4W9XKO       844625626   \n",
       "998          US      9593677  R1B83504S9W1OR  B00WAVGR40       341371295   \n",
       "\n",
       "                                         product_title product_category  \\\n",
       "994  Rockport Men's DresSports 3.0 Dandris Bike Toe...            Shoes   \n",
       "995  Elegant Women's Fashion Strappy Black Flat San...            Shoes   \n",
       "996                 Patagonia Women's Vela Hiking Shoe            Shoes   \n",
       "997        Stride Rite SRTech Lana Mary Jane (Toddler)            Shoes   \n",
       "998  Western Camouflage Camo Buckle Concealed Carry...            Shoes   \n",
       "\n",
       "     star_rating  helpful_votes  total_votes vine verified_purchase  \\\n",
       "994            4              0            0    N                 Y   \n",
       "995            5              0            0    N                 Y   \n",
       "996            5              0            0    N                 Y   \n",
       "997            3              0            0    N                 Y   \n",
       "998            3              3            3    N                 Y   \n",
       "\n",
       "                                 review_headline  \\\n",
       "994  it's fine. That narrowness cost it one star   \n",
       "995                                   Five Stars   \n",
       "996                           Great hiking shoe!   \n",
       "997                                  Three Stars   \n",
       "998                                  Three Stars   \n",
       "\n",
       "                                           review_body review_date  \\\n",
       "994  Sharp looking shoe that can work with a suit o...  2015-08-31   \n",
       "995                       Great fit & very comfortable  2015-08-31   \n",
       "996  I wear a 9.5 in most closed toe shoes. These f...  2015-08-31   \n",
       "997                                   Nice and comfort  2015-08-31   \n",
       "998  I like the purse part... but the concealed car...  2015-08-31   \n",
       "\n",
       "     review head length  review body length  \n",
       "994                  43                 169  \n",
       "995                  10                  28  \n",
       "996                  18                 547  \n",
       "997                  11                  16  \n",
       "998                  11                  89  "
      ]
     },
     "execution_count": 105,
     "metadata": {},
     "output_type": "execute_result"
    }
   ],
   "source": [
    "student_df.tail()\n"
   ]
  },
  {
   "cell_type": "code",
   "execution_count": 106,
   "metadata": {},
   "outputs": [
    {
     "data": {
      "text/plain": [
       "<seaborn.axisgrid.FacetGrid at 0x7f6e89eeba20>"
      ]
     },
     "execution_count": 106,
     "metadata": {},
     "output_type": "execute_result"
    },
    {
     "data": {
      "image/png": "[encoded data removed]",
      "text/plain": [
       "<matplotlib.figure.Figure at 0x7f6e89eeb550>"
      ]
     },
     "metadata": {},
     "output_type": "display_data"
    }
   ],
   "source": [
    "g = sns.FacetGrid(data=student_df, col='star_rating')\n",
    "g.map(plt.hist,'review head length', bins=5)"
   ]
  },
  {
   "cell_type": "code",
   "execution_count": 107,
   "metadata": {},
   "outputs": [
    {
     "data": {
      "text/plain": [
       "<seaborn.axisgrid.FacetGrid at 0x7f6e89ca2898>"
      ]
     },
     "execution_count": 107,
     "metadata": {},
     "output_type": "execute_result"
    },
    {
     "data": {
      "image/png": "[encoded data removed]",
      "text/plain": [
       "<matplotlib.figure.Figure at 0x7f6e89cf6be0>"
      ]
     },
     "metadata": {},
     "output_type": "display_data"
    }
   ],
   "source": [
    "g = sns.FacetGrid(data=student_df, col='star_rating')\n",
    "g.map(plt.hist,'review body length', bins=5)"
   ]
  },
  {
   "cell_type": "code",
   "execution_count": 108,
   "metadata": {},
   "outputs": [
    {
     "data": {
      "text/plain": [
       "<matplotlib.axes._subplots.AxesSubplot at 0x7f6e89b393c8>"
      ]
     },
     "execution_count": 108,
     "metadata": {},
     "output_type": "execute_result"
    },
    {
     "data": {
      "image/png": "[encoded data removed]",
      "text/plain": [
       "<matplotlib.figure.Figure at 0x7f6e89d1cd30>"
      ]
     },
     "metadata": {},
     "output_type": "display_data"
    }
   ],
   "source": [
    "sns.boxplot(x='star_rating', y='review head length', data=student_df)"
   ]
  },
  {
   "cell_type": "code",
   "execution_count": 109,
   "metadata": {},
   "outputs": [
    {
     "data": {
      "text/plain": [
       "<matplotlib.axes._subplots.AxesSubplot at 0x7f6e89a58668>"
      ]
     },
     "execution_count": 109,
     "metadata": {},
     "output_type": "execute_result"
    },
    {
     "data": {
      "image/png": "[encoded data removed]",
      "text/plain": [
       "<matplotlib.figure.Figure at 0x7f6e89a53550>"
      ]
     },
     "metadata": {},
     "output_type": "display_data"
    }
   ],
   "source": [
    "sns.boxplot(x='star_rating', y='review body length', data=student_df)"
   ]
  },
  {
   "cell_type": "code",
   "execution_count": 110,
   "metadata": {},
   "outputs": [
    {
     "data": {
      "text/html": [
       "<div>\n",
       "<style scoped>\n",
       "    .dataframe tbody tr th:only-of-type {\n",
       "        vertical-align: middle;\n",
       "    }\n",
       "\n",
       "    .dataframe tbody tr th {\n",
       "        vertical-align: top;\n",
       "    }\n",
       "\n",
       "    .dataframe thead th {\n",
       "        text-align: right;\n",
       "    }\n",
       "</style>\n",
       "<table border=\"1\" class=\"dataframe\">\n",
       "  <thead>\n",
       "    <tr style=\"text-align: right;\">\n",
       "      <th></th>\n",
       "      <th>customer_id</th>\n",
       "      <th>product_parent</th>\n",
       "      <th>helpful_votes</th>\n",
       "      <th>total_votes</th>\n",
       "      <th>review head length</th>\n",
       "      <th>review body length</th>\n",
       "    </tr>\n",
       "  </thead>\n",
       "  <tbody>\n",
       "    <tr>\n",
       "      <th>customer_id</th>\n",
       "      <td>1.000000</td>\n",
       "      <td>-0.083525</td>\n",
       "      <td>-0.027330</td>\n",
       "      <td>0.038275</td>\n",
       "      <td>0.896834</td>\n",
       "      <td>0.636744</td>\n",
       "    </tr>\n",
       "    <tr>\n",
       "      <th>product_parent</th>\n",
       "      <td>-0.083525</td>\n",
       "      <td>1.000000</td>\n",
       "      <td>0.817239</td>\n",
       "      <td>0.775450</td>\n",
       "      <td>-0.295945</td>\n",
       "      <td>0.397365</td>\n",
       "    </tr>\n",
       "    <tr>\n",
       "      <th>helpful_votes</th>\n",
       "      <td>-0.027330</td>\n",
       "      <td>0.817239</td>\n",
       "      <td>1.000000</td>\n",
       "      <td>0.996000</td>\n",
       "      <td>-0.170748</td>\n",
       "      <td>0.469893</td>\n",
       "    </tr>\n",
       "    <tr>\n",
       "      <th>total_votes</th>\n",
       "      <td>0.038275</td>\n",
       "      <td>0.775450</td>\n",
       "      <td>0.996000</td>\n",
       "      <td>1.000000</td>\n",
       "      <td>-0.097856</td>\n",
       "      <td>0.509751</td>\n",
       "    </tr>\n",
       "    <tr>\n",
       "      <th>review head length</th>\n",
       "      <td>0.896834</td>\n",
       "      <td>-0.295945</td>\n",
       "      <td>-0.170748</td>\n",
       "      <td>-0.097856</td>\n",
       "      <td>1.000000</td>\n",
       "      <td>0.706259</td>\n",
       "    </tr>\n",
       "    <tr>\n",
       "      <th>review body length</th>\n",
       "      <td>0.636744</td>\n",
       "      <td>0.397365</td>\n",
       "      <td>0.469893</td>\n",
       "      <td>0.509751</td>\n",
       "      <td>0.706259</td>\n",
       "      <td>1.000000</td>\n",
       "    </tr>\n",
       "  </tbody>\n",
       "</table>\n",
       "</div>"
      ],
      "text/plain": [
       "                    customer_id  product_parent  helpful_votes  total_votes  \\\n",
       "customer_id            1.000000       -0.083525      -0.027330     0.038275   \n",
       "product_parent        -0.083525        1.000000       0.817239     0.775450   \n",
       "helpful_votes         -0.027330        0.817239       1.000000     0.996000   \n",
       "total_votes            0.038275        0.775450       0.996000     1.000000   \n",
       "review head length     0.896834       -0.295945      -0.170748    -0.097856   \n",
       "review body length     0.636744        0.397365       0.469893     0.509751   \n",
       "\n",
       "                    review head length  review body length  \n",
       "customer_id                   0.896834            0.636744  \n",
       "product_parent               -0.295945            0.397365  \n",
       "helpful_votes                -0.170748            0.469893  \n",
       "total_votes                  -0.097856            0.509751  \n",
       "review head length            1.000000            0.706259  \n",
       "review body length            0.706259            1.000000  "
      ]
     },
     "execution_count": 110,
     "metadata": {},
     "output_type": "execute_result"
    }
   ],
   "source": [
    "star_rating = student_df.groupby('star_rating').mean()\n",
    "star_rating.corr()"
   ]
  },
  {
   "cell_type": "code",
   "execution_count": 111,
   "metadata": {},
   "outputs": [
    {
     "data": {
      "text/plain": [
       "<matplotlib.axes._subplots.AxesSubplot at 0x7f6e8ad31da0>"
      ]
     },
     "execution_count": 111,
     "metadata": {},
     "output_type": "execute_result"
    },
    {
     "data": {
      "image/png": "[encoded data removed]",
      "text/plain": [
       "<matplotlib.figure.Figure at 0x7f6e89f017b8>"
      ]
     },
     "metadata": {},
     "output_type": "display_data"
    }
   ],
   "source": [
    "sns.heatmap(data=star_rating.corr(), annot=True)"
   ]
  },
  {
   "cell_type": "code",
   "execution_count": 112,
   "metadata": {},
   "outputs": [
    {
     "name": "stdout",
     "output_type": "stream",
     "text": [
      "5    585\n",
      "4    201\n",
      "3    104\n",
      "2     57\n",
      "1     52\n",
      "Name: star_rating, dtype: int64\n"
     ]
    },
    {
     "data": {
      "image/png": "[encoded data removed]",
      "text/plain": [
       "<matplotlib.figure.Figure at 0x7f6e8f58a128>"
      ]
     },
     "metadata": {},
     "output_type": "display_data"
    }
   ],
   "source": [
    "star = student_df['star_rating'].value_counts().head(10)\n",
    "print(star)\n",
    "plt.figure(figsize=(15,8))\n",
    "sns.barplot(star.index, star.values, alpha=0.9, color=color[3])\n",
    "plt.xticks(rotation='vertical')\n",
    "plt.xlabel('Star ratings', fontsize=12)\n",
    "plt.ylabel('Number of shoes', fontsize=12)\n",
    "plt.title(\"Star rating vs No.of shoes\", fontsize=16)\n",
    "plt.show()"
   ]
  },
  {
   "cell_type": "code",
   "execution_count": 33,
   "metadata": {},
   "outputs": [
    {
     "name": "stdout",
     "output_type": "stream",
     "text": [
      "0     765\n",
      "1     133\n",
      "2      46\n",
      "3      19\n",
      "4      13\n",
      "6       6\n",
      "11      4\n",
      "7       3\n",
      "13      2\n",
      "9       2\n",
      "Name: total_votes, dtype: int64\n"
     ]
    },
    {
     "data": {
      "image/png": "[encoded data removed]",
      "text/plain": [
       "<matplotlib.figure.Figure at 0x7f6e8f56f710>"
      ]
     },
     "metadata": {},
     "output_type": "display_data"
    }
   ],
   "source": [
    "votes = student_df['total_votes'].value_counts().head(10)\n",
    "print(votes)\n",
    "plt.figure(figsize=(15,8))\n",
    "sns.barplot(votes.index, votes.values, alpha=0.9, color=color[0])\n",
    "plt.xticks(rotation='vertical')\n",
    "plt.xlabel('Vote values', fontsize=12)\n",
    "plt.ylabel('Number of votes', fontsize=12)\n",
    "plt.title(\"NUmber of total votes vs Vote Values\", fontsize=16)\n",
    "plt.show()"
   ]
  },
  {
   "cell_type": "code",
   "execution_count": 113,
   "metadata": {},
   "outputs": [
    {
     "data": {
      "text/plain": [
       "Text(0.5,1,'Distribution of total votes')"
      ]
     },
     "execution_count": 113,
     "metadata": {},
     "output_type": "execute_result"
    },
    {
     "data": {
      "image/png": "[encoded data removed]",
      "text/plain": [
       "<matplotlib.figure.Figure at 0x7f6e8aff8710>"
      ]
     },
     "metadata": {},
     "output_type": "display_data"
    }
   ],
   "source": [
    "plt.figure(figsize=(15,8))\n",
    "count = student_df['total_votes'].value_counts()\n",
    "squarify.plot(sizes=count.values,label=count.index, value=count.values)\n",
    "plt.title('Distribution of total votes')"
   ]
  },
  {
   "cell_type": "code",
   "execution_count": 35,
   "metadata": {},
   "outputs": [
    {
     "data": {
      "text/plain": [
       "Text(0.5,1,'Distribution of star ratings')"
      ]
     },
     "execution_count": 35,
     "metadata": {},
     "output_type": "execute_result"
    },
    {
     "data": {
      "image/png": "[encoded data removed]",
      "text/plain": [
       "<matplotlib.figure.Figure at 0x7f6e8f2aa748>"
      ]
     },
     "metadata": {},
     "output_type": "display_data"
    }
   ],
   "source": [
    "plt.figure(figsize=(15,8))\n",
    "count = student_df['star_rating'].value_counts()\n",
    "squarify.plot(sizes=count.values,label=count.index, value=count.values)\n",
    "plt.title('Distribution of star ratings')"
   ]
  },
  {
   "cell_type": "code",
   "execution_count": 114,
   "metadata": {},
   "outputs": [
    {
     "data": {
      "text/plain": [
       "(637, 17)"
      ]
     },
     "execution_count": 114,
     "metadata": {},
     "output_type": "execute_result"
    }
   ],
   "source": [
    "#dependent and independent variables\n",
    "student_df_class = student_df[(student_df['star_rating'] == 1) | (student_df['star_rating'] == 5)]\n",
    "student_df_class.shape\n"
   ]
  },
  {
   "cell_type": "code",
   "execution_count": 115,
   "metadata": {},
   "outputs": [],
   "source": [
    "#creating axis of classification\n",
    "X = student_df_class['review_body']\n",
    "y = student_df_class['star_rating']"
   ]
  },
  {
   "cell_type": "code",
   "execution_count": 116,
   "metadata": {},
   "outputs": [],
   "source": [
    "#apply nltk\n",
    "import string\n",
    "from nltk.corpus import stopwords\n",
    "\n",
    "\n",
    "def text_process(text):\n",
    "\n",
    "    '''\n",
    "    Takes in a string of text, then performs the following:\n",
    "    1. Remove all punctuation\n",
    "    2. Remove all stopwords\n",
    "    3. Return the cleaned text as a list of words\n",
    "    '''\n",
    "\n",
    "    nopunc = [char for char in text if char not in string.punctuation]\n",
    "\n",
    "    nopunc = ''.join(nopunc)\n",
    "    \n",
    "    return [word for word in nopunc.split() if word.lower() not in stopwords.words('english')]\n"
   ]
  },
  {
   "cell_type": "code",
   "execution_count": 117,
   "metadata": {},
   "outputs": [
    {
     "name": "stdout",
     "output_type": "stream",
     "text": [
      "['Hey', 'sample', 'review', 'happens', 'contain', 'punctuations']\n"
     ]
    }
   ],
   "source": [
    "#checking above code\n",
    "sample_text = \"Hey there! This is a sample review, which happens to contain punctuations.\"\n",
    "\n",
    "print(text_process(sample_text))\n"
   ]
  },
  {
   "cell_type": "code",
   "execution_count": 118,
   "metadata": {},
   "outputs": [],
   "source": [
    "#vectorization\n",
    "from sklearn.feature_extraction.text import CountVectorizer\n",
    "bow_transformer = CountVectorizer(analyzer=text_process).fit(X)"
   ]
  },
  {
   "cell_type": "code",
   "execution_count": 119,
   "metadata": {},
   "outputs": [
    {
     "data": {
      "text/plain": [
       "2400"
      ]
     },
     "execution_count": 119,
     "metadata": {},
     "output_type": "execute_result"
    }
   ],
   "source": [
    "len(bow_transformer.vocabulary_)"
   ]
  },
  {
   "cell_type": "code",
   "execution_count": 120,
   "metadata": {},
   "outputs": [
    {
     "data": {
      "text/plain": [
       "'it is comfortable'"
      ]
     },
     "execution_count": 120,
     "metadata": {},
     "output_type": "execute_result"
    }
   ],
   "source": [
    "#bag of words count\n",
    "review_25 = X[25]\n",
    "review_25\n"
   ]
  },
  {
   "cell_type": "code",
   "execution_count": 141,
   "metadata": {},
   "outputs": [
    {
     "data": {
      "text/plain": [
       "<1x2400 sparse matrix of type '<class 'numpy.int64'>'\n",
       "\twith 1 stored elements in Compressed Sparse Row format>"
      ]
     },
     "execution_count": 141,
     "metadata": {},
     "output_type": "execute_result"
    }
   ],
   "source": [
    "bow_25 = bow_transformer.transform([review_25])\n",
    "bow_25"
   ]
  },
  {
   "cell_type": "code",
   "execution_count": 142,
   "metadata": {},
   "outputs": [
    {
     "name": "stdout",
     "output_type": "stream",
     "text": [
      "America\n",
      "Extremely\n"
     ]
    }
   ],
   "source": [
    "print(bow_transformer.get_feature_names()[114])\n",
    "print(bow_transformer.get_feature_names()[220])"
   ]
  },
  {
   "cell_type": "code",
   "execution_count": 129,
   "metadata": {},
   "outputs": [
    {
     "name": "stdout",
     "output_type": "stream",
     "text": [
      "Shape of Sparse Matrix:  (637, 2400)\n",
      "Amount of Non-Zero occurrences:  7713\n",
      "Density:0.5045133437990581\n"
     ]
    }
   ],
   "source": [
    "print('Shape of Sparse Matrix: ', X.shape)\n",
    "print('Amount of Non-Zero occurrences: ', X.nnz)\n",
    "\n",
    "# Percentage of non-zero values\n",
    "density = (100.0 * X.nnz / (X.shape[0] * X.shape[1]))\n",
    "print(\"Density:{}\".format((density)))"
   ]
  },
  {
   "cell_type": "code",
   "execution_count": 130,
   "metadata": {},
   "outputs": [],
   "source": [
    "#training and test data\n",
    "from sklearn.model_selection import train_test_split\n",
    "\n",
    "X_train, X_test, y_train, y_test = train_test_split(X, y, test_size=0.3, random_state=101)"
   ]
  },
  {
   "cell_type": "code",
   "execution_count": 138,
   "metadata": {},
   "outputs": [
    {
     "data": {
      "text/plain": [
       "MultinomialNB(alpha=1.0, class_prior=None, fit_prior=True)"
      ]
     },
     "execution_count": 138,
     "metadata": {},
     "output_type": "execute_result"
    }
   ],
   "source": [
    "#training our model\n",
    "from sklearn.naive_bayes import MultinomialNB\n",
    "\n",
    "nb = MultinomialNB()\n",
    "nb.fit(X_train, y_train)"
   ]
  },
  {
   "cell_type": "code",
   "execution_count": 51,
   "metadata": {},
   "outputs": [],
   "source": [
    "#testing and evaluating the model\n",
    "preds = nb.predict(X_test)"
   ]
  },
  {
   "cell_type": "code",
   "execution_count": 134,
   "metadata": {},
   "outputs": [
    {
     "name": "stdout",
     "output_type": "stream",
     "text": [
      "[[  5  14]\n",
      " [  4 169]]\n",
      "\n",
      "\n",
      "             precision    recall  f1-score   support\n",
      "\n",
      "          1       0.56      0.26      0.36        19\n",
      "          5       0.92      0.98      0.95       173\n",
      "\n",
      "avg / total       0.89      0.91      0.89       192\n",
      "\n"
     ]
    }
   ],
   "source": [
    "#evaluate our predictions\n",
    "#confusion matrix\n",
    "from sklearn.metrics import confusion_matrix, classification_report\n",
    "\n",
    "print(confusion_matrix(y_test, preds))\n",
    "print('\\n')\n",
    "print(classification_report(y_test, preds))"
   ]
  },
  {
   "cell_type": "code",
   "execution_count": 135,
   "metadata": {},
   "outputs": [
    {
     "name": "stdout",
     "output_type": "stream",
     "text": [
      "Accuracy of Logistic regression classifier on training set: 0.98\n",
      "Accuracy of Logistic regression classifier on test set: 0.90\n"
     ]
    }
   ],
   "source": [
    "#Logistic Reg\n",
    "from sklearn.linear_model import LogisticRegression\n",
    "\n",
    "logreg = LogisticRegression()\n",
    "logreg.fit(X_train, y_train)\n",
    "\n",
    "print('Accuracy of Logistic regression classifier on training set: {:.2f}'\n",
    "     .format(logreg.score(X_train, y_train)))\n",
    "print('Accuracy of Logistic regression classifier on test set: {:.2f}'\n",
    "     .format(logreg.score(X_test, y_test)))"
   ]
  },
  {
   "cell_type": "code",
   "execution_count": 136,
   "metadata": {},
   "outputs": [
    {
     "name": "stdout",
     "output_type": "stream",
     "text": [
      "Accuracy of K-NN classifier on training set: 0.93\n",
      "Accuracy of K-NN classifier on test set: 0.90\n"
     ]
    }
   ],
   "source": [
    "#apply KNN\n",
    "from sklearn.neighbors import KNeighborsClassifier\n",
    "\n",
    "knn = KNeighborsClassifier()\n",
    "knn.fit(X_train, y_train)\n",
    "print('Accuracy of K-NN classifier on training set: {:.2f}'\n",
    "     .format(knn.score(X_train, y_train)))\n",
    "print('Accuracy of K-NN classifier on test set: {:.2f}'\n",
    "     .format(knn.score(X_test, y_test)))"
   ]
  },
  {
   "cell_type": "code",
   "execution_count": 137,
   "metadata": {},
   "outputs": [
    {
     "name": "stdout",
     "output_type": "stream",
     "text": [
      "Accuracy of Decision Tree classifier on training set: 1.00\n",
      "Accuracy of Decision Tree classifier on test set: 0.91\n"
     ]
    }
   ],
   "source": [
    "#Decision Tree\n",
    "from sklearn.tree import DecisionTreeClassifier\n",
    "\n",
    "clf = DecisionTreeClassifier().fit(X_train, y_train)\n",
    "\n",
    "print('Accuracy of Decision Tree classifier on training set: {:.2f}'\n",
    "     .format(clf.score(X_train, y_train)))\n",
    "print('Accuracy of Decision Tree classifier on test set: {:.2f}'\n",
    "     .format(clf.score(X_test, y_test)))"
   ]
  },
  {
   "cell_type": "code",
   "execution_count": 72,
   "metadata": {},
   "outputs": [
    {
     "name": "stdout",
     "output_type": "stream",
     "text": [
      "Accuracy of SVM classifier on training set: 0.93\n",
      "Accuracy of SVM classifier on test set: 0.90\n"
     ]
    }
   ],
   "source": [
    "#SVM Classifier\n",
    "from sklearn.svm import SVC\n",
    "\n",
    "svm = SVC()\n",
    "svm.fit(X_train, y_train)\n",
    "print('Accuracy of SVM classifier on training set: {:.2f}'\n",
    "     .format(svm.score(X_train, y_train)))\n",
    "print('Accuracy of SVM classifier on test set: {:.2f}'\n",
    "     .format(svm.score(X_test, y_test)))"
   ]
  }
 ],
 "metadata": {
  "kernelspec": {
   "display_name": "Python 3",
   "language": "python",
   "name": "python3"
  },
  "language_info": {
   "codemirror_mode": {
    "name": "ipython",
    "version": 3
   },
   "file_extension": ".py",
   "mimetype": "text/x-python",
   "name": "python",
   "nbconvert_exporter": "python",
   "pygments_lexer": "ipython3",
   "version": "3.6.4"
  }
 },
 "nbformat": 4,
 "nbformat_minor": 2
}
